{
 "cells": [
  {
   "cell_type": "markdown",
   "metadata": {},
   "source": [
    "# Zastosowanie równań różniczkowych w ekonomii"
   ]
  },
  {
   "cell_type": "markdown",
   "metadata": {},
   "source": [
    "## Wprowadzenie\n",
    "Rozwój matematyki i ekonomii jest ze sobą powiązany od tysięcy lat. Pierwsze symbole matematyczne służyły ludzkości do określania liczebności zwierząt i towarów. Pozwoliło to na postawienie pierwszych kroków do wprowadzenia notacji matematycznej. Ekonomiczna interpretacja liczb ujemnych jako dług ułatwiła rozszerzenie zbioru liczb naturalnych o liczby całkowite, z kolei liczby wymierne służą do wydawania reszty podczas sprzedaży.\n",
    "Upowszechnienie jednej z najważniejszych stałych matematycznych, jaką jest liczba $e$, jest bezpośrednio związany z obliczeniem wysokości odsetek naliczanych od pożyczki. Aktualne możliwości kredytowe zależą bezpośrednio od funkcjonujących modeli matematycznych.<br>\n",
    "I tak przechodzimy od prehistorycznego liczenia na paliczkach do momentu gdzie współczesna matematyka boryka się z problemami nierozwiązanymi od setek lat, a ekonomia matematyczna stała się nowym odrębnym działem wymagającym używania skomplikowanej analizy, równań rózniczkowych, jak i wielu odrębnych dziedzin matematyki.\n",
    "<br>Poniższa praca ma na celu wprowadzić nas w temat zależności panujących w świecie ekonomii, a w szczególności pojecie równowagi rynkowej oraz zobrazować podstawowe problemy z jakimi należy się zmierzyć podczas projektowania rynków finansowych."
   ]
  },
  {
   "cell_type": "markdown",
   "metadata": {},
   "source": [
    "## Definicje"
   ]
  },
  {
   "cell_type": "markdown",
   "metadata": {},
   "source": [
    "**Popyt** - ilość dobra, którą nabywcy chcą i mogą kupić po danej cenie w określonym czasie."
   ]
  },
  {
   "cell_type": "markdown",
   "metadata": {},
   "source": [
    "**Podaż** - ilość dóbr i usług, oferowanych na rynku."
   ]
  },
  {
   "cell_type": "markdown",
   "metadata": {},
   "source": [
    "**Prawo popytu i podaży** - wraz ze wzrostem ceny popyt maleje a podaż wzrasta, natomiast spadkowi ceny towarzyszy wzrost wielkości popytu i spadek podaży."
   ]
  },
  {
   "cell_type": "markdown",
   "metadata": {},
   "source": [
    "**Stopa procentowa** - koszt kapitału albo inaczej cena, jaka przysługuje posiadaczowi kapitału z racji udostępnienia go innym na określony czas."
   ]
  },
  {
   "cell_type": "markdown",
   "metadata": {},
   "source": [
    "**Okresy kapitalizacji** - czas po jakim narosłe odsetki są dopisywane do kapitału."
   ]
  },
  {
   "cell_type": "markdown",
   "metadata": {},
   "source": [
    "**Podatek belki** - podatek od dochodów kapitałowych, jego wysokość wynosi 19% ."
   ]
  },
  {
   "cell_type": "markdown",
   "metadata": {},
   "source": [
    "**Liczba Eulera** - jedna z najwaznejszych stałych matematycznych mająca szerokie zastosowanie w dziedzinach matematyki i fizyki:\n",
    "\\begin{gather*}\n",
    "    e^x=\\lim_{n\\rightarrow \\infty}\\left(1+\\frac{x}{n}\\right)^n\n",
    "\\end{gather*}"
   ]
  },
  {
   "cell_type": "markdown",
   "metadata": {},
   "source": [
    "**Równowaga rynkowa** - moment kiedy wielkość popytu zrównuje się z podażą."
   ]
  },
  {
   "cell_type": "markdown",
   "metadata": {},
   "source": [
    "## Metoda Eulera\n",
    "\n",
    "Jedną z najprostrzych i najbardziej intuicyjnych metod obliczania całek jest metoda Eulera:\n",
    "\\begin{gather*}\n",
    "    \\frac{dy}{dx}=f(x,y)\\\\\n",
    "    \\frac{dy_i}{dx_i}\\approx\\frac{y_{i+1}-y_i}{x_{i+1}-x_i}\\\\\n",
    "    y_{i+1}=(x_{i+1}-x_i)\\frac{dy_i}{dx_i}+y_i\\\\\n",
    "\\end{gather*}\n",
    "Podstawiając funkcję $f$ oraz $ x_{i+1}-x_1=h$ otrzymujemy: \n",
    "\\begin{gather*}\n",
    "        y_{i+1}=hf(x_i,y_i)+y_i\n",
    "\\end{gather*}"
   ]
  },
  {
   "cell_type": "markdown",
   "metadata": {},
   "source": [
    "## Procent składany - kapitalizacja odsetek\n",
    "Jednym z pierwszych problemów, jaki możemy napotkać w ekonomii związany jest z lokatami i kapitalizacją odsetek.\n",
    "    Załóżmy, że nasza stopa procentowa w skali rocznej wynosi 100%, a na koncie posiadamy 1 złoty, ale nasze odsetki mogą być odliczane w różnych odstępach czasu. W przypadku rozliczania co rok, po roku będziemy posiadać 2 złote. W przypadku dwóch okresów kapitalizacyjnych, na koniec roku będziemy posiadać $(1+\\frac{1}{2})^2=2.25$. W przypadku odliczania co kwartał otrzymujemy $(1+\\frac{1}{4})^4=2.44$. I przechodząc do nieskończoności otrzymamy granice ciągu, jaką jest liczba $e$.<br>\n",
    "Spróbujmy zatem wyprowadzić wzór na nasz procent składany, zauważmy najpierw, że przyrost naszych odsetek jest proporcjonalny do wielkości kapitału, zatem:\n",
    "\\begin{align*}\n",
    "                \\frac{dx}{dt} = rx \\iff x(t)=Ce^{rt}\n",
    "\\end{align*}<br>\n",
    "Zakładając, że $x(0)=x_0$ jest naszym kapitałem początkowym, a nasza stopa oprocentowania wynosi $p$ w skali rocznej otrzymujemy:\n",
    "\\begin{align*}\n",
    "        x(t)=x_0e^{pt}\n",
    "\\end{align*}<br>\n",
    "Jednak powyższy wzór zakłada ciągłą kapitalizację, aby z tym sobie poradzić skorzystamy z definicji liczby $e$\n",
    "\\begin{align*}\n",
    "        x_0e^{pt} = x_0 \\lim_{n->\\infty} \\left( 1+\\frac{p}{n} \\right)^{n t}\n",
    "\\end{align*}<br>\n",
    "Ostatecznie otrzymujemy, że nasz wzór ma postać:<br>\n",
    "\\begin{align*}\n",
    "    x(t)=x_0 \\left( 1+\\frac{p}{n} \\right)^{n t}\n",
    "\\end{align*}\n",
    "Gdzie:\n",
    "* $x_0$ - kapitał początkowy\n",
    "* $p$  - roczna stopa procentowa\n",
    "* $n$ - ilość okresów kapitalizacji w ciągu roku\n",
    "* $t$ - ilość lat"
   ]
  },
  {
   "cell_type": "markdown",
   "metadata": {},
   "source": [
    "**Rozwiązanie numeryczne**\n",
    "\n",
    "Podany problem możemy też rozwiązać numeryzcnie wykorzystując metode Eulera:\n",
    "\\begin{cases}\\dfrac{dx}{dt}=px\\\\ x\\left( 0\\right) =x_0\\\\ h=\\dfrac{t}{n}\\end{cases}\n",
    "\\begin{gather*}\n",
    "        x_{i+1}=x_i +\\frac{t}{n} p x_i\n",
    "\\end{gather*}\n",
    "Gdzie $i$ to ilość kapitalizacji."
   ]
  },
  {
   "cell_type": "code",
   "execution_count": null,
   "metadata": {},
   "outputs": [
    {
     "data": {
      "image/png": "[encoded data removed]",
      "text/plain": [
       "<Figure size 432x288 with 1 Axes>"
      ]
     },
     "metadata": {
      "needs_background": "light"
     },
     "output_type": "display_data"
    }
   ],
   "source": [
    "import numpy as np\n",
    "import matplotlib.pyplot as plt\n",
    "x0 = 100\n",
    "n = 12\n",
    "t = 12\n",
    "p = 5/n\n",
    "N = t*n\n",
    "x = np.zeros(N+1)\n",
    "x[0] = x0\n",
    "for n in range(N+1)[1:]:\n",
    "    x[n] = x[n-1] + (p/100.0)*x[n-1]\n",
    "plt.plot(range(N+1), x)\n",
    "plt.xlabel(\"Lata\")\n",
    "plt.ylabel(\"Kapitał\")\n",
    "plt.xticks(range(0,N+t,t), range(t+1))\n",
    "plt.title(r\"$x_0 =100,n=12,t=12,p=5\\% $\")\n",
    "plt.show()"
   ]
  },
  {
   "cell_type": "markdown",
   "metadata": {},
   "source": [
    "Uwzględniając podatek belki, ostateczny zysk jaki uzyskamy wynosi: $x(t)\\frac{81}{100}-x_0$"
   ]
  },
  {
   "cell_type": "markdown",
   "metadata": {},
   "source": [
    "# Współzawodnictwo\n",
    "\n",
    "Rywalizacja między firmami może być zarazem motywująca jak i deprymująca. Firmy porównują swoje wyniki oraz rywalizują o każdego klienta w celu zyskania jak największego przychodu. Jednym z najprostszych modeli mogących opisać rywalizację dwóch  firm wygląda następująco:\n",
    "\\begin{cases}\n",
    "\\dfrac{dx}{dt}=r_1x\\left( 1-\\dfrac{x}{K}\\right) -a_{1}xy\\\\ \\dfrac{dy}{dt}=r_{2}y\\left( 1-\\dfrac{y}{K}\\right) -a_{2}xy\n",
    "\\end{cases}\n",
    "Gdzie:\n",
    "* $x,y$ - ceny poszczególnych towarów\n",
    "* $a_1,a_2$ - stałe większe od zera związane z ujemną interakcją\n",
    "* $r1,r2$ - dowolne stałe związane z radzeniem sobie na danym rynku\n",
    "* $K$ - maksymalna cena, jaką jest się w stanie zapłacić za danyprodukt\n",
    "Jest to standardowy model rywalizacji.\n",
    "Załóżmy dodatkowo, że cena, jaką kupiec jest w stanie zapłacić jest nieograniczona tzw. $K->\\infty$ oraz niech $r_1,r_1$ będą różne od zera, Założenie upraszcza nasz model do postaci:\n",
    "\n",
    "\\begin{gather*}\\left\\{  \n",
    "    \\begin{matrix}\n",
    "        \\dfrac{dx}{dt}=r_{1}x-a_{1}xy\\\\\n",
    "        \\dfrac{dy}{dt}=r_{2}y-a_{2}xy\n",
    "    \\end{matrix}\\right.\n",
    "\\end{gather*}\n",
    "\n",
    "Nie jesteśmy w stanie podać analitycznego rozwiązania podanego układu, ale możemy sprawdzić jak podany układ zachowuje się wokół swoich punktów krytycznych:\n",
    "\n",
    "\\begin{gather*}\\left\\{  \n",
    "    \\begin{matrix}\n",
    "        F\\left( x,y\\right)=r_{1}x-a_{1}xy \\\\ \n",
    "        G\\left( x,y\\right)=r_{2}y-a_{2}xy \n",
    "    \\end{matrix}\\right.\n",
    "\\end{gather*}\n",
    "\n",
    "Nasza macierz Jacobiego ma postać:\n",
    "\n",
    "\\begin{gather*}\n",
    "        \\begin{pmatrix} \\dfrac{\\partial F}{\\partial x} & \\dfrac{\\partial F}{\\partial y} \\\\\n",
    "        \\dfrac{\\partial G}{\\partial x} & \\dfrac{\\partial G}{\\partial y} \\end{pmatrix} =\n",
    "        \\begin{pmatrix} r_{1}-a_{1}y & -a_{1}x \n",
    "        \\\\ -a_{2}y & r_{2}-a_{2}x \\end{pmatrix}\n",
    "\\end{gather*}\n",
    "\n",
    "Znajdźmy teraz punkty krytyczne naszego układu równań:\n",
    "\n",
    "\\begin{gather*}\n",
    "    \\begin{cases}F\\left( x,y\\right) =0\\\\ G\\left( x,y\\right) =0\\end{cases} \\iff \n",
    "    \\begin{cases}x\\left( r_{1}-a_{1}y\\right) =0\\\\ y\\left( r_{2}-a_{2}x\\right) =0\\end{cases}\n",
    "\\end{gather*}\n",
    "\n",
    "Rozważania powyższego układu równań są następujące:\n",
    "\n",
    "\\begin{gather*}\n",
    "    \\left( 0,0\\right),\\quad ( \\frac{r_{2}}{a_{2}},\\frac{r_{1}}{a_{1}})\n",
    "\\end{gather*}\n",
    "\n",
    "Rozważmy każdy z tych punktów:\n",
    "\n",
    "\\begin{gather*}\n",
    "A\\left( 0,0\\right) =\\begin{pmatrix} r_{1} & 0 \\\\ 0 & r_2 \\end{pmatrix}\\Leftrightarrow \\begin{cases}\\lambda _{1}=r_{1}\\\\ \\lambda _{2}=r_{2}\\end{cases}\n",
    "\\end{gather*}\n",
    "\n",
    "\\begin{aligned}\\\\ A\\left( \\dfrac{r_{2}}{a_{2}},\\dfrac{r_1}{a_{1}}\\right) =\\begin{pmatrix} 0 & -\\dfrac{r_{2}a_{1}}{a_{2}} \\\\ -\\dfrac{r_{1}a_{2}}{a_{1}} & 0 \\end{pmatrix}\\Leftrightarrow \\lambda =\\pm \\sqrt{r_{1}r_{2}}\\end{aligned}\n",
    "\n",
    "Rozważmy teraz poszczególne przypadki:<br>\n",
    "Dla $r_1,r_2>0$ w punkcie $(0,0)$ otrzymujemy węzeł niestabilny, a w punkcie $\\left(\\frac{r_{2}}{a_{2}},\\frac{r_1}{a_{1}}\\right)$ siodło.<br>\n",
    "Rozwiązanie dla $r_1,r_2<0$ w punkcie $(0,0)$ otrzymujemy węzeł stabilny, a w punkcie $\\left(\\frac{r_{2}}{a_{2}},\\frac{r_1}{a_{1}}\\right)$ otrzymujemy siodło.<br>\n",
    "Natomiast gdy $r_1r_2<0$ w punkcie $(0,0)$ otrzymujemy siodło, a w punkcie $\\left(\\frac{r_{2}}{a_{2}},\\frac{r_1}{a_{1}}\\right)$ centrum.\n",
    "\n",
    "Warto jednak zauważyć, że w naszym modelu rozpatrywać będziemy tylko $x,y>0$ ponieważ ujemna cena towaru jest czymś rzadko spotykanym w ekonomii.\n",
    "Zobaczmy zatem jak wygląda przykładowy portret fazowy:<br>\n",
    "![Portret fazowy](../img/portret_fazowy.png)"
   ]
  },
  {
   "cell_type": "markdown",
   "metadata": {},
   "source": [
    "\n",
    "# Liniowy model gospodarki\n",
    "Podstawowym modelem matematycznym opisującym zasadę popytu i podaży jest liniowy model gospodarki.\n",
    "Załóżmy, że na rynku znajduje się tylko jeden produkt (sytuacja monopolistyczna), równania prawa popytu i podaży w naszym modelu mają postać:<br>\n",
    "\\begin{align*}\\left\\{  \n",
    "    \\begin{matrix}\n",
    "            D = \\alpha - \\beta P \\\\\n",
    "            S = -\\gamma + \\delta P\n",
    "    \\end{matrix}\\right.\n",
    "\\end{align*}\n",
    "Gdzie:\n",
    "* $D$ - popyt\n",
    "* $S$ - podaż\n",
    "* $P$ - cena produktu\n",
    "* $\\alpha,\\beta,\\gamma,\\delta$ - pewnie stałe większe od zera\n",
    "\n",
    "Punkt równowagi rynkowej $P^*$ jest osiagany gdy krzywa popytu przetnie się z krzywą podaży\n",
    "![Punkt równowagi rynkowej](img/punkt_równowagi.png)\n",
    "\n",
    "\n",
    "Łatwo zobaczyć, że cena równowagi wynosi:\n",
    "\\begin{align*}\n",
    "    P^*=\\dfrac{\\alpha +\\gamma }{\\beta +\\delta }\n",
    "\\end{align*}<br>\n",
    "Zakładając, że wzrost ceny jest proporcjonalny do różnicy popytu i podaży otrzymujemy:\n",
    "\n",
    "\\begin{gather*}\n",
    "    \\dfrac{dP}{dt}=r\\left( D-S\\right) \\\\\n",
    "    \\dfrac{dP}{dt}=r(\\alpha +\\gamma)-r(\\beta +\\delta)P\\\\\n",
    "    \\dfrac{dP}{dt}+r(\\beta +\\delta)P=r(\\alpha +\\gamma)\n",
    "\\end{gather*}<br>\n",
    "Rozwiązanie układu jednorodnego ma postać:<br>\n",
    "\\begin{align*}\n",
    "    P( t) =c_{1}e^{-r\\left( \\beta +\\delta \\right) t}\n",
    "\\end{align*}<br>\n",
    "Łatwo również znaleźć rozwiązanie szczególne układu niejednorodnego jakim jest:\n",
    "\\begin{align*}\n",
    "    P( t) =\\dfrac{\\alpha +\\gamma }{\\beta +\\delta }=P^{*}\n",
    "\\end{align*}<br>\n",
    "Łącząc oba rozwiązania otrzymujemy rozwiązanie ogólne równania:<br>\n",
    "\\begin{align*}\n",
    "    P(t) =c_{1}e^{-r( \\beta +\\delta) t}+P^{*}\n",
    "\\end{align*}<br>\n",
    "Ostatecznie podkładając $P(0)=P_0$ nasze rozwiązanie przybiera postać:\n",
    "\\begin{align*}\n",
    "        P(t) =(P_0-P^*)e^{-r( \\beta +\\delta) t}+P^{*}\n",
    "\\end{align*}<br>\n",
    "Jak widzimy dla $t->\\infty$ i $r>0$ nasza cena dąży do ceny równowagi.\n",
    "Co więcej, jesteśmy w stanie udowodnić, że $P^*$ jest asymptotycznie stabilne:\n",
    "\\begin{gather*}\n",
    "    f(P)=r(\\alpha +\\gamma)-r(\\beta +\\delta)P\\\\\n",
    "    f(P)=0 \\iff P=P^* \\\\\n",
    "    f'(P)=-r(\\beta +\\delta)\n",
    "\\end{gather*}<br>\n",
    "Dla $r>0$:\n",
    "\\begin{gather*}\n",
    "    f'(P^*)<0\n",
    "\\end{gather*}\n",
    "Zatem otrzymujemy, że $P^*$ jest asymptotycznie stabilne."
   ]
  },
  {
   "cell_type": "markdown",
   "metadata": {},
   "source": [
    "Przykładowe wykresy funkcji $P(t)$ dla $P(0)=2$,<br>\n",
    "![Wykresy liniowej gospodarki](img/lin_mod_gosp.png)"
   ]
  },
  {
   "cell_type": "markdown",
   "metadata": {},
   "source": [
    "# Nieliniowy model równowagi rynkowej\n",
    "W modelu liniowym zakładaliśmy, że szybkość zmiany ceny w momencie czasu zależy liniowo od różnicy popytu i podaży. Przypomnijmy sobie to równanie:\n",
    "\\begin{gather*}\n",
    "    \\dfrac{dP}{dt}=r\\left( D-S\\right)\n",
    "\\end{gather*}<br>\n",
    "Oczywiście jest to bardzo uproszczony model ekonomiczny. Spróbujmy teraz zmniejszyć stopień uproszczenia i rozpatrzmy nieliniową zależność szybkości zmiany ceny od różnicy popytu i podaży. Rozpatrzmy zależność kwadratową:\n",
    "\\begin{gather*}\n",
    "    \\dfrac{dP}{dt}=r\\left(D-S\\right)^{2}\n",
    "\\end{gather*}<br>\n",
    "Podstawiamy nasze wyrażenia dla D i S:\n",
    "\\begin{gather*}\n",
    "    \\dfrac{dP}{dt}=r[\\left(\\alpha+\\gamma\\right)-P\\left(\\beta+\\delta\\right)]^{2}\n",
    "\\end{gather*}<br>\n",
    "Podstawmy teraz:\n",
    "\\begin{gather*}\n",
    "    a=\\alpha+\\gamma, \\\\\n",
    "    b=\\beta+\\delta\n",
    "\\end{gather*}<br>\n",
    "Dostajemy:\n",
    "\\begin{gather*}\n",
    "    \\dfrac{dP}{dt}=r\\left(a-bP\\right)^{2}\n",
    "\\end{gather*}\n",
    "Takie równanie łatwo się sprowadza do równania pierwszego rzędu o zmiennych rozdzielonych. Zróbmy podstawienie:\n",
    "\\begin{gather*}\n",
    "    a-bP=c, \\\\\n",
    "    c^{'}=-bP^{'}, \\\\\n",
    "    P^{'}=-\\dfrac{c^{'}}{b}\n",
    "\\end{gather*}<br>\n",
    "Oczywiście c zależy od t. Podstawimy do równania i rozwiążemy je:\n",
    "\\begin{gather*}\n",
    "    -\\dfrac{c^{'}}{b}=rc^{2}, \\\\\n",
    "    -\\dfrac{dc}{dt}=rbc^{2}, \\\\\n",
    "    -\\dfrac{dc}{c^{2}}=rbdt, \\\\\n",
    "    -\\int \\dfrac{dc}{c^{2}} = rb\\int dt, \\\\\n",
    "    \\dfrac{1}{c} = rbt+k, \\\\\n",
    "    c=\\dfrac{1}{rbt+k},\n",
    "\\end{gather*}<br>\n",
    "gdzie k jest pewną stałą. <br>\n",
    "Wracamy do naszego P:\n",
    "\\begin{gather*}\n",
    "    a-bP=\\dfrac{1}{rbt+k}, \\\\\n",
    "    bP=a-\\dfrac{1}{rbt+k}, \\\\\n",
    "    P=\\dfrac{a}{b}-\\dfrac{1}{rb^{2}t+bk}\n",
    "\\end{gather*}<br>\n",
    "Wyprowadźmy wzór na stałą k w zależności od początkowej ceny, czyli ceny w początkowy moment czasu (t=0):\n",
    "\\begin{gather*}\n",
    "    P\\left(0\\right)=\\dfrac{a}{b}-\\dfrac{1}{bk}, \\\\\n",
    "    \\dfrac{1}{bk}=\\dfrac{a}{b}-P\\left(0\\right)=\\dfrac{a-bP\\left(0\\right)}{b}, \\\\\n",
    "    bk=\\dfrac{b}{a-bP\\left(0\\right)}, \\\\\n",
    "    k=\\dfrac{1}{a-bP\\left(0\\right)}\n",
    "\\end{gather*}<br>\n",
    "Podstawimy to do naszej funkcji:\n",
    "\\begin{gather*}\n",
    "    P=\\dfrac{a}{b}-\\dfrac{a-bP\\left(0\\right)}{rb^{2}t\\left(a-bP\\left(0\\right)\\right)+b}\n",
    "\\end{gather*}\n",
    "Z upływem czasu rynek ekonomiczny dąży do stabilności. Razem z nim cena dąży do punktu stabilnego. Jak było pokazane wcześniej, jest to punkt, w którym popyt jest równy podaży. Obliczmy granicę naszej funkcji ceny dla czasu dążącego do nieskończoności:\n",
    "\\begin{gather*}\n",
    "    \\lim_{t\\to\\infty} P(t)=\\dfrac{a}{b}-\\lim_{t\\to\\infty} \\dfrac{a-bP\\left(0\\right)}{rb^{2}t\\left(a-bP\\left(0\\right)\\right)+b}=\\dfrac{a}{b}\n",
    "\\end{gather*}<br>\n",
    "Wróćmy do naszych stałych początkowych:\n",
    "\\begin{gather*}\n",
    "    \\lim_{t\\to\\infty} P(t)=\\dfrac{\\alpha+\\gamma}{\\beta+\\delta}\n",
    "\\end{gather*}\n",
    "Każde inne rozwiązanie naszego równania różniczkowego dąży do tego rozwiązania szczególnego z upływem czasu. To znaczy, że ta liczba jest ceną w punkcie równowagi rynku ekonomicznego w naszym modelu. <br><br>\n",
    "# Rozszerzenie modelu\n",
    "Spróbujmy teraz rozszerzyć nasz model do bardziej ogólnej postaci równania:\n",
    "\\begin{gather*}\n",
    "    \\dfrac{dP}{dt}=r(D-S)^{n}\n",
    "\\end{gather*}<br>\n",
    "Robimy nasze podstawienia a,b,c:\n",
    "\\begin{gather*}\n",
    "    -\\dfrac{c^{'}}{b}=rc^{n}\n",
    "\\end{gather*}<br>\n",
    "Dostajemy takie rozwiązanie ogólne:\n",
    "\\begin{gather*}\n",
    "    P=\\dfrac{a-\\sqrt[n-1]{\\dfrac{1}{(n-1)(rbt+k)}}}{b}\n",
    "\\end{gather*}<br>\n",
    "Podstawiając P(0) znajdujemy stałą k:\n",
    "\\begin{gather*}\n",
    "    k=\\dfrac{1}{(n+1)(a+bP(0))^{n-1}}\n",
    "\\end{gather*}<br>\n",
    "Zostawmy jednak stałą k, żeby nie utrudniać zapisu. Zobaczmy teraz ile wynosi granica naszej funkcji pry t $\\to\\infty$:\n",
    "\\begin{gather*}\n",
    "    \\lim_{t\\to\\infty}P(t)=\\dfrac{a}{b}-\\dfrac{1}{b}\\lim_{t\\to\\infty}\\sqrt[n-1]{\\dfrac{1}{(n-1)(rbt+k)}}\n",
    "\\end{gather*}<br>\n",
    "k jest liczbą stałą, n jest jakąś ustaloną z góry liczbą naturalną, więc dostajemy taką granicę:\n",
    "\\begin{gather*}\n",
    "    \\lim_{t\\to\\infty}P(t)=\\dfrac{a}{b}=\\dfrac{\\alpha+\\gamma}{\\beta+\\delta}\n",
    "\\end{gather*}<br>\n",
    "Otrzymaliśmy taką samą granicę jak w szczególnym przypadku n=2. Stan równowagi rynkowej w naszym modelu nie zależy od n, jeśli n$\\ge$1.\n",
    "#### Rozwiązanie numeryczne\n",
    "Zróbmy wstępne założenia:\n",
    "\\begin{gather*}\n",
    "    \\alpha=100, \\\\\n",
    "    \\beta=10, \\\\\n",
    "    \\gamma=5, \\\\\n",
    "    \\delta=3, \\\\\n",
    "    r=0,3, \\\\\n",
    "    P(0)=8\n",
    "\\end{gather*}<br>\n",
    "Stąd:\n",
    "\\begin{gather*}\n",
    "    a=\\alpha+\\gamma=105, \\\\\n",
    "    b=\\beta+\\delta=13\n",
    "\\end{gather*}<br>\n",
    "Teraz podstawiając te stałe naszkicujmy wykres naszego rozwiązania analitycznego."
   ]
  },
  {
   "cell_type": "code",
   "execution_count": null,
   "metadata": {},
   "outputs": [
    {
     "data": {
      "image/png": "[encoded data removed]",
      "text/plain": [
       "<Figure size 432x288 with 1 Axes>"
      ]
     },
     "metadata": {
      "needs_background": "light"
     },
     "output_type": "display_data"
    }
   ],
   "source": [
    "alpha=100\n",
    "beta=10\n",
    "gamma=5\n",
    "delta=3\n",
    "a=alpha+gamma\n",
    "b=beta+delta\n",
    "r=0.3\n",
    "P0=8\n",
    "t = np.linspace(1,20,2000)\n",
    "p = [(a/b-(a-b*P0)/(r*b**2*i*(a-b*P0)+b)) for i in t]\n",
    "plt.plot(t,p)\n",
    "plt.xlabel(\"Czas, t\")\n",
    "plt.ylabel(\"Cena, P\")\n",
    "plt.show()"
   ]
  },
  {
   "cell_type": "markdown",
   "metadata": {},
   "source": [
    "Teraz używając tych stałych rozwiążemy nasze równanie $\\dfrac{dP}{dt}=r\\left(a-bP\\right)^{2}$ za pomocą metody numerycznej Eulera."
   ]
  },
  {
   "cell_type": "code",
   "execution_count": null,
   "metadata": {},
   "outputs": [
    {
     "data": {
      "image/png": "[encoded data removed]",
      "text/plain": [
       "<Figure size 432x288 with 1 Axes>"
      ]
     },
     "metadata": {
      "needs_background": "light"
     },
     "output_type": "display_data"
    }
   ],
   "source": [
    "t0=0\n",
    "numP=[P0]\n",
    "param1=1\n",
    "param2=20\n",
    "param3=100\n",
    "numT=np.linspace(param1,param2,param3)\n",
    "diff=(param2-param1)/param3\n",
    "for i in numT:\n",
    "    numP.append(numP[-1]+diff*r*(a-b*numP[-1])**2)\n",
    "numP.pop(0)\n",
    "plt.plot(numT,numP)\n",
    "plt.xlabel(\"Czas, t\")\n",
    "plt.ylabel(\"Cena, P\")\n",
    "plt.show()"
   ]
  },
  {
   "cell_type": "markdown",
   "metadata": {},
   "source": [
    "Jak widać rozwiązanie numeryczne wygląda podobnie do naszego rozwiązania analitycznego."
   ]
  },
  {
   "cell_type": "markdown",
   "metadata": {},
   "source": [
    "# Podsumowanie\n",
    "    \n",
    "W danym projekcie rozpatrzyliśmy dwa modele równowagi rynkowej: liniowy i nieliniowy, czyli potęgowy.\n",
    "Przyjęcie założenia, że szybkość zmiany ceny towaru jest proporcjonalna do różnicy między popytem a podażą, jakie przyjęliśmy w modelu liniowym wydaje się być dużym uogólnieniem. Szczególnie gdy w rzeczywistości istnieją paradoksy zaprzeczające prawu popytu i podaży.\n",
    "Kwadratowa zależność szybkości zmiany ceny od nadwyżki popytu nad podażą wydaje się być dużo bliższa rzeczywistości. Taki model można stosować na krótkich przedziałach czasowych. Jednak nawet w takich warunkach nie będzie on zbyt precyzyjny. Wykres funkcji zależności ceny od czasu wygląda podobnie do wykresu funkcji logarytmicznej. Na tym wykresie dobrze widać, że z upływem czasu cena dąży do stałej, czyli sytuacja rynkowa dąży do stabilności, a podaż przybliża się do popytu."
   ]
  },
  {
   "cell_type": "markdown",
   "metadata": {},
   "source": [
    "# Literatura\n",
    "\n",
    "\n",
    "[1] Banaś, J., & Dejniak, D. (2012). Modelowanie równowagi rynkowej z zastosowaniem teorii równań różniczkowych. Nierówności społeczne a wzrost gospodarczy, 24, 36-46.<br>\n",
    "[2] Chiang, A. (1994). Podstawy ekonomii matematycznej, przekł. EM Syczewska. Warszawa: PWE."
   ]
  },
  {
   "cell_type": "markdown",
   "metadata": {},
   "source": []
  }
 ],
 "metadata": {
  "kernelspec": {
   "display_name": "Python 3",
   "language": "python",
   "name": "python3"
  },
  "language_info": {
   "codemirror_mode": {
    "name": "ipython",
    "version": 3
   },
   "file_extension": ".py",
   "mimetype": "text/x-python",
   "name": "python",
   "nbconvert_exporter": "python",
   "pygments_lexer": "ipython3",
   "version": "3.10.12"
  }
 },
 "nbformat": 4,
 "nbformat_minor": 4
}
