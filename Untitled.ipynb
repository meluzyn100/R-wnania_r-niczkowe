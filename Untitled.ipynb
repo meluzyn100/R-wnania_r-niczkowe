{
 "cells": [
  {
   "cell_type": "markdown",
   "metadata": {},
   "source": [
    "# Zastosowanie ruwnań ruzniczkowych w ekonomi"
   ]
  },
  {
   "cell_type": "markdown",
   "metadata": {},
   "source": [
    "## Wprowadzenie\n",
    "Rozwój matematyki i ekonomi jest ze sobą powiązany od tysięcy lat. Pierwsze symbole matematyczne służyły ludzkości do określania liczebności zwierząt i towarów, co jednoczenie pozwoliło na postawienie pierwszych kroków do wprowadzeniu notacji matematycznej. Ekonomiczna interpretacja liczby ujemnych jako dług ułatwiła rozszerzenie zboru liczb naturalnych o liczby całkowite, a liczby wymierne służą do wydawania reszty podczas sprzedaży.\n",
    "Upowszechnienie jednej z najważniejszych stałych matematycznych, jaką jest liczba $e$ jest bezpośrednio związany z obliczeniem wysokości odsetek związanych z pożyczką. A aktualne możliwości kredytowe  zależą bezpośrednio od funkcjonujących modeli matematycznych.<br>\n",
    "I tak przechodzimy od prehistorycznego liczenia na paliczkach, do momentu gdzie współczesna matematyka boryka się z problemami nierozwianymi od setek lat, a ekonomia matematyczna stała się nowym odrębnym działem wymagającą używania skomplikowanej analizy, równań rózniczkowych jak i wielu odrębnych dziedzin matematyki.\n",
    "<br>Poniższa pracza ma na celu wprowadzić nas w temat zależności panujących w świecie ekonomi, a w szczegulnosci pojeciem równogagi rynkowej oraz zobrazować podstawowe problemy, z jakimi należy się zmierzyć podczas projektowania rynków finansowych."
   ]
  },
  {
   "cell_type": "markdown",
   "metadata": {},
   "source": [
    "## Definicje"
   ]
  },
  {
   "cell_type": "markdown",
   "metadata": {},
   "source": [
    "**Popyt** - jest to ilość dobra, którą nabywcy chcą i mogą kupić po danej cenie w określonym czasie."
   ]
  },
  {
   "cell_type": "markdown",
   "metadata": {},
   "source": [
    "**Podarz** - ilość dóbr i usług, oferowanych na rynku."
   ]
  },
  {
   "cell_type": "markdown",
   "metadata": {},
   "source": [
    "**Prawo popytu i podarzy** - Wraz ze wzrostem ceny popyt maleje, natomiast spadkowi ceny towarzyszy wzrost wielkości popytu. Ilość dóbr, oferowana na rynku przez producentów przy określonej cenie. Wraz ze wzrostem ceny podaż wzrasta, natomiast spadkowi ceny towarzyszy spadek podaży."
   ]
  },
  {
   "cell_type": "markdown",
   "metadata": {},
   "source": [
    "**Stopa procentowa** – koszt kapitału albo inaczej cena, jaka przysługuje posiadaczowi kapitału z racji udostępnienia go innym na określony czas"
   ]
  },
  {
   "cell_type": "markdown",
   "metadata": {},
   "source": [
    "**Okresy kapitalizacji** - czas po jakim narosłe odsetki są dopisywane do kapitału"
   ]
  },
  {
   "cell_type": "markdown",
   "metadata": {},
   "source": [
    "**Podatek belki** - podatek od dochodów kapitałowych, jego wysokość wynosi 19%"
   ]
  },
  {
   "cell_type": "markdown",
   "metadata": {},
   "source": [
    "**Liczba Eulera** - jedna z najwaznejszych stałych matemtycznym majaca szerokei zasosowanie w dziedzinach matematyki i fizyki\n",
    "\\begin{gather*}\n",
    "    e^x=\\lim_{n\\rightarrow \\infty}\\left(1+\\frac{x}{n}\\right)^n\n",
    "\\end{gather*}"
   ]
  },
  {
   "cell_type": "markdown",
   "metadata": {},
   "source": [
    "**Równowaga rynkowa**-Moment kiedy wielkośc popyt zrównuje sie z podażą."
   ]
  },
  {
   "cell_type": "code",
   "execution_count": null,
   "metadata": {},
   "outputs": [],
   "source": []
  },
  {
   "cell_type": "markdown",
   "metadata": {},
   "source": [
    "## Procent składany - kapitalizacja odsetek\n",
    "Jednym z pierwszych problemów jakie mozemy napodkać w ekonomi moze wiazać sie z lokatami i kapitalizacją odsetek.\n",
    "    Założny ze nasza stopa procentowa w skali rcznej wynosi 100% a na koncie posiadamy 1 złoty, ale nasze odsetki moga być odliczane w róznych odstempach czasu. W przypadku rozliczania co rok, to po roku bedziemy posiadac 2 złote. W przypadku dwuch okresuw kapitalizacyjnych, na koniec roku bedziemy posaidac $(1+\\frac{1}{2})^2=2.25$.W przypadku odlizcania co kwartał otrzymujemy $(1+\\frac{1}{4})^4=2.44$. I przechodzac do nieskaczonosci otrzymamy granice naszczego ciągu jaką jest liczba $e$.<br>\n",
    "Sprubujmy zatem wyprowadzić wzór na nasz procent składany, zauwazmy wpierw ze przyrost naszych odsetek jest proporcjonalny do wielkosci kapitału zatem\n",
    "\\begin{align*}\n",
    "                \\frac{dx}{dt} = rx \\iff x(t)=Ce^{rt}\n",
    "\\end{align*}<br>\n",
    "Zakładjac ze $x(0)=x_0$ jest naszym kapitałem poczatkowym, a nasza stopa oprocentowania wynosi $p$ w skali rocznej otrzymay\n",
    "\\begin{align*}\n",
    "        x(t)=x_0e^{pt}\n",
    "\\end{align*}<br>\n",
    "Jednak powyższy wzor zakłąda ciagłą kapitalizacje, aby z tym sobie poradzic skozystamy z definicji liczby $e$\n",
    "\\begin{align*}\n",
    "        x_0e^{pt} = x_0 \\lim_{n->\\infty} \\left( 1+\\frac{p}{n} \\right)^{n t}\n",
    "\\end{align*}<br>\n",
    "Ostatecznie otrzymujemy że nasz wzor ma postać<br>\n",
    "\\begin{align*}\n",
    "    x(t)=x_0 \\left( 1+\\frac{p}{n} \\right)^{n t}\n",
    "\\end{align*}\n",
    "Gdzie:\n",
    "* $x_0$ - kapitał poczatkowy\n",
    "* $p$  - roczna stopa procentowa\n",
    "* $n$ - ilość okresów kapitalizacji\n",
    "* $t$ - ilośc lat"
   ]
  },
  {
   "cell_type": "markdown",
   "metadata": {},
   "source": [
    "**Rozwiazanie numeryczne**\n",
    "\n",
    "Podany problem mozemy też rozwaizać numeryzcnie wokorzystujac wzór rekurencyjny\n",
    "\\begin{align*}\n",
    "    x_t = x_{t-1} +\\frac{p}{n}x_{t-1}\n",
    "\\end{align*}"
   ]
  },
  {
   "cell_type": "code",
   "execution_count": 23,
   "metadata": {},
   "outputs": [
    {
     "data": {
      "image/png": "[encoded data removed]",
      "text/plain": [
       "<Figure size 432x288 with 1 Axes>"
      ]
     },
     "metadata": {
      "needs_background": "light"
     },
     "output_type": "display_data"
    }
   ],
   "source": [
    "from numpy import *\n",
    "import matplotlib.pyplot as plt\n",
    "x0 = 100\n",
    "n = 12\n",
    "t = 12\n",
    "p = 5/n\n",
    "N = t*n\n",
    "x = zeros(N+1)\n",
    "x[0] = x0\n",
    "for n in range(N+1)[1:]:\n",
    "    x[n] = x[n-1] + (p/100.0)*x[n-1]\n",
    "plt.plot(range(N+1), x)\n",
    "plt.xlabel(\"Lata\")\n",
    "plt.ylabel(\"Kapitał\")\n",
    "plt.xticks(range(0,N+t,t), range(t+1))\n",
    "plt.show()"
   ]
  },
  {
   "cell_type": "markdown",
   "metadata": {},
   "source": [
    "Uwzgledniajac podatek belki ostateczny zysk jaki uzyskamy wynosi: $x(t)\\frac{81}{100}-x_0$"
   ]
  },
  {
   "cell_type": "markdown",
   "metadata": {},
   "source": [
    "\n",
    "## Liniowy model gospodarki\n",
    "Podstawowym model matematycznym opisującym zasadę popytu i podaży jest liniowy model gospodarki.\n",
    "Załóżmy, że na rynku znajduje się tylko jeden produkt (sytuacja monopolistyczna), równania prawa popytu i podaży w naszym modelu mają postać<br>\n",
    "\\begin{align*}\\left\\{  \n",
    "    \\begin{matrix}\n",
    "            D = \\alpha - \\beta P \\\\\n",
    "            S = -\\gamma + \\delta P\n",
    "    \\end{matrix}\\right.\n",
    "\\end{align*}\n",
    "Gdzie:\n",
    "* $D$ - popyt\n",
    "* $S$ - podaż\n",
    "* $P$ - cena produktu\n",
    "* $\\alpha,\\beta,\\gamma,\\delta$ - pewnie stałe większe od zera\n",
    "\n",
    "Punkt równowagi rynkowej $P^*$ jest osiagany gdy krzywa popytu przetnie się z krzywą podaży\n",
    "![Punkt równowagi rynkowej](img/punkt_równowagi.png)\n",
    "\n",
    "Łatwo zobaczyć, że cena równowagi wynosi\n",
    "\\begin{align*}\n",
    "    P^*=\\dfrac{\\alpha +\\gamma }{\\beta +\\delta }\n",
    "\\end{align*}<br>\n",
    "Zakładają, że wzrost ceny jest proporcjonalny do różnicy popytu i podażą otrzymujemy\n",
    "\n",
    "\\begin{gather*}\n",
    "    \\dfrac{dP}{dt}=r\\left( D-S\\right) \\\\\n",
    "    \\dfrac{dP}{dt}=r(\\alpha +\\gamma)-r(\\beta +\\delta)P\\\\\n",
    "    \\dfrac{dP}{dt}+r(\\beta +\\delta)P=r(\\alpha +\\gamma)\n",
    "\\end{gather*}<br>\n",
    "Rozwiązanie układu jednorodnego ma postać<br>\n",
    "\\begin{align*}\n",
    "    P( t) =c_{1}e^{-r\\left( \\beta +\\delta \\right) t}\n",
    "\\end{align*}<br>\n",
    "Łatwo również znaleźć rozwiązanie szczególne układu niejednorodnego, jakim jest\n",
    "\\begin{align*}\n",
    "    P( t) =\\dfrac{\\alpha +\\gamma }{\\beta +\\delta }=P^{*}\n",
    "\\end{align*}<br>\n",
    "Łącząc oba rozwiązania otrzymujemy rozwiązanie ogólne naszego równania, jakim jest<br>\n",
    "\\begin{align*}\n",
    "    P(t) =c_{1}e^{-r( \\beta +\\delta) t}+P^{*}\n",
    "\\end{align*}<br>\n",
    "Ostatecznie podkładając $P(0)=P_0$ nasze rozwiązanie przybiera postać\n",
    "\\begin{align*}\n",
    "        P(t) =(P_0-P^*)e^{-r( \\beta +\\delta) t}+P^{*}\n",
    "\\end{align*}<br>\n",
    "Jak widzimy dla $t->\\infty$ i $r>0$ nasza cena dąży do ceny równowagi.\n",
    "Co więcej, jesteśmy w stanie udowodnić, że $P^*$ jest asymptotycznie stabilne \n",
    "\\begin{gather*}\n",
    "    f(P)=r(\\alpha +\\gamma)-r(\\beta +\\delta)P\\\\\n",
    "    f(P)=0 \\iff P=P^* \\\\\n",
    "    f'(P)=-r(\\beta +\\delta)\n",
    "\\end{gather*}<br>\n",
    "Dla $r>0$\n",
    "\\begin{gather*}\n",
    "    f'(P^*)<0\n",
    "\\end{gather*}\n",
    "Zatem otrzymujemy, że $P^*$ jest asymptotycznie stabilne."
   ]
  },
  {
   "cell_type": "markdown",
   "metadata": {},
   "source": [
    "Przykładowe wykresy funkcji $P(t)$ dla $P(0)=2$\n",
    "![Wykresy liniowej gospodarki](img/lin_mod_gosp.png)"
   ]
  },
  {
   "cell_type": "code",
   "execution_count": null,
   "metadata": {},
   "outputs": [],
   "source": []
  }
 ],
 "metadata": {
  "kernelspec": {
   "display_name": "Python 3",
   "language": "python",
   "name": "python3"
  },
  "language_info": {
   "codemirror_mode": {
    "name": "ipython",
    "version": 3
   },
   "file_extension": ".py",
   "mimetype": "text/x-python",
   "name": "python",
   "nbconvert_exporter": "python",
   "pygments_lexer": "ipython3",
   "version": "3.7.6"
  }
 },
 "nbformat": 4,
 "nbformat_minor": 4
}
